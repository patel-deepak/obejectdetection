{
  "nbformat": 4,
  "nbformat_minor": 0,
  "metadata": {
    "colab": {
      "name": "2138921_CSCM45J_CW_2.ipynb",
      "provenance": [],
      "collapsed_sections": []
    },
    "kernelspec": {
      "name": "python3",
      "display_name": "Python 3"
    },
    "language_info": {
      "name": "python"
    }
  },
  "cells": [
    {
      "cell_type": "markdown",
      "source": [
        "**2138921_DEEPAK_PATEL_CSCM45J - Coursework 2: Object Recognition**"
      ],
      "metadata": {
        "id": "L8Nr77YTsfpw"
      }
    },
    {
      "cell_type": "markdown",
      "source": [
        "==> LOAD ALL Dataset files in colab: \n",
        "\n",
        "1. trnLabel_coarse.npy\n",
        "2. trnLabel_fine.npy\n",
        "3. trnImage.npy  \n",
        "4. tstImage.npy\n",
        "5. tstLabel_coarse.npy\n",
        "6. tstLabel_fine.npy \n",
        "\n",
        "\n",
        "\n",
        "\n"
      ],
      "metadata": {
        "id": "ie5qNwVbs2Tu"
      }
    },
    {
      "cell_type": "code",
      "execution_count": null,
      "metadata": {
        "colab": {
          "resources": {
            "http://localhost:8080/nbextensions/google.colab/files.js": {
              "data": "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",
              "ok": true,
              "headers": [
                [
                  "content-type",
                  "application/javascript"
                ]
              ],
              "status": 200,
              "status_text": ""
            }
          },
          "base_uri": "https://localhost:8080/",
          "height": 73
        },
        "id": "v7MfS-a35f59",
        "outputId": "6c356d34-0dc1-47e0-86be-de0eb96e85cf"
      },
      "outputs": [
        {
          "output_type": "display_data",
          "data": {
            "text/plain": [
              "<IPython.core.display.HTML object>"
            ],
            "text/html": [
              "\n",
              "     <input type=\"file\" id=\"files-520b3a80-7265-4ab9-830d-76a16151785a\" name=\"files[]\" multiple disabled\n",
              "        style=\"border:none\" />\n",
              "     <output id=\"result-520b3a80-7265-4ab9-830d-76a16151785a\">\n",
              "      Upload widget is only available when the cell has been executed in the\n",
              "      current browser session. Please rerun this cell to enable.\n",
              "      </output>\n",
              "      <script src=\"/nbextensions/google.colab/files.js\"></script> "
            ]
          },
          "metadata": {}
        },
        {
          "output_type": "stream",
          "name": "stdout",
          "text": [
            "Saving tstImage.npy to tstImage.npy\n"
          ]
        }
      ],
      "source": [
        "from google.colab import files\n",
        "uploaded = files.upload()"
      ]
    },
    {
      "cell_type": "code",
      "source": [
        "import numpy as np\n",
        "import matplotlib.pyplot as plt\n",
        "import skimage.feature"
      ],
      "metadata": {
        "id": "Vv9B14TOQWVL"
      },
      "execution_count": null,
      "outputs": []
    },
    {
      "cell_type": "markdown",
      "source": [
        "==> Load datasets with numpy and check the shape of the data"
      ],
      "metadata": {
        "id": "0AigQs5Mt9Km"
      }
    },
    {
      "cell_type": "code",
      "source": [
        "images = np.load('./trnImage.npy')\n",
        "label_fine = np.load('./trnLabel_fine.npy')\n",
        "label_coarse = np.load('./trnLabel_coarse.npy')\n",
        "\n",
        "print(f'Images Shape: {images.shape}')\n",
        "print(f'Images Fine Labels Shape: {label_fine.shape}')\n",
        "print(f'Images Coarse Labels Shape: {label_coarse.shape}')\n",
        "image_index = 2 # pick a specific image\n",
        "image = images[:, :, :, image_index]"
      ],
      "metadata": {
        "colab": {
          "base_uri": "https://localhost:8080/"
        },
        "id": "Pm68aWqLQaw_",
        "outputId": "3350076e-affe-4347-b01c-20b00eef0207"
      },
      "execution_count": null,
      "outputs": [
        {
          "output_type": "stream",
          "name": "stdout",
          "text": [
            "Images Shape: (32, 32, 3, 50000)\n",
            "Images Fine Labels Shape: (50000,)\n",
            "Images Coarse Labels Shape: (50000,)\n"
          ]
        }
      ]
    },
    {
      "cell_type": "markdown",
      "source": [
        "==> As mentioned in RunME verify reshaped ,Transpose and Looped data in order to use it for Machine Learning .\n",
        "As per this verification I will be using transpose data for further processing."
      ],
      "metadata": {
        "id": "JcjXyEjWuHVY"
      }
    },
    {
      "cell_type": "code",
      "source": [
        "# Lets call reshape on our 4D tensor\n",
        "reshaped = np.reshape(images, (50000, 32, 32, 3))\n",
        "print(f'Shape of reshaped: {reshaped.shape}')\n",
        "\n",
        "# Lets call transpose on our 4D tensor\n",
        "transposed = np.transpose(images, [3,0,1,2])\n",
        "print(f'Shape of transposed: {transposed.shape}')\n",
        "\n",
        "# Lets try looping over our 4D tensor, note how long this takes!\n",
        "new_images = []\n",
        "for i in range(images.shape[-1]):\n",
        "    new_images.append(images[:,:,:,i])\n",
        "new_images = np.asarray(new_images)\n",
        "print(f'Shape of new_images: {new_images.shape}')\n",
        "\n",
        "# Now lets look at what the result is\n",
        "plt.figure()\n",
        "plt.imshow(images[:,:,:,0])\n",
        "plt.title('Original Images')\n",
        "plt.show()\n",
        "plt.figure()\n",
        "plt.imshow(reshaped[0])\n",
        "plt.title('Reshaped')\n",
        "plt.show()\n",
        "plt.figure()\n",
        "plt.imshow(transposed[0])\n",
        "plt.title('Transposed')\n",
        "plt.show()\n",
        "plt.figure()\n",
        "plt.imshow(new_images[0])\n",
        "plt.title('Looped')\n",
        "plt.show()"
      ],
      "metadata": {
        "colab": {
          "base_uri": "https://localhost:8080/",
          "height": 1000
        },
        "id": "jIOLxlfvQgqD",
        "outputId": "d21d614a-8cb8-4aaf-ea76-6aae70894920"
      },
      "execution_count": null,
      "outputs": [
        {
          "output_type": "stream",
          "name": "stdout",
          "text": [
            "Shape of reshaped: (50000, 32, 32, 3)\n",
            "Shape of transposed: (50000, 32, 32, 3)\n",
            "Shape of new_images: (50000, 32, 32, 3)\n"
          ]
        },
        {
          "output_type": "display_data",
          "data": {
            "text/plain": [
              "<Figure size 432x288 with 1 Axes>"
            ],
            "image/png": "[encoded data removed]"
          },
          "metadata": {
            "needs_background": "light"
          }
        },
        {
          "output_type": "display_data",
          "data": {
            "text/plain": [
              "<Figure size 432x288 with 1 Axes>"
            ],
            "image/png": "[encoded data removed]"
          },
          "metadata": {
            "needs_background": "light"
          }
        },
        {
          "output_type": "display_data",
          "data": {
            "text/plain": [
              "<Figure size 432x288 with 1 Axes>"
            ],
            "image/png": "[encoded data removed]"
          },
          "metadata": {
            "needs_background": "light"
          }
        },
        {
          "output_type": "display_data",
          "data": {
            "text/plain": [
              "<Figure size 432x288 with 1 Axes>"
            ],
            "image/png": "[encoded data removed]"
          },
          "metadata": {
            "needs_background": "light"
          }
        }
      ]
    },
    {
      "cell_type": "markdown",
      "source": [
        "==> As per RunMe extract the feature and view it ."
      ],
      "metadata": {
        "id": "gF6TX8XHuize"
      }
    },
    {
      "cell_type": "code",
      "source": [
        "# Extract features from a single image\n",
        "hog_feature, hog_image = skimage.feature.hog(image, pixels_per_cell=[6,6], cells_per_block=[2,2], visualize=True) # you may need to add \"channel_axis=-1\" if you are using the newest version of skimage\n",
        "\n",
        "print(f'The extracted feature vector is of length {hog_feature.shape[0]} per sample')"
      ],
      "metadata": {
        "colab": {
          "base_uri": "https://localhost:8080/"
        },
        "id": "HeIufirLQ4On",
        "outputId": "0cc9c0a9-3330-4198-c06a-3a151b3d4d02"
      },
      "execution_count": null,
      "outputs": [
        {
          "output_type": "stream",
          "name": "stdout",
          "text": [
            "The extracted feature vector is of length 576 per sample\n"
          ]
        }
      ]
    },
    {
      "cell_type": "code",
      "source": [
        "plt.figure()\n",
        "plt.subplot(121)\n",
        "plt.imshow(hog_image)\n",
        "plt.subplot(122)\n",
        "plt.imshow(image)\n",
        "plt.suptitle(f'Extracted HOG features from image number: {image_index}\\nFine Class: {label_fine[image_index]}, Coarse Class: {label_coarse[image_index]}')\n",
        "plt.show(block=False)"
      ],
      "metadata": {
        "colab": {
          "base_uri": "https://localhost:8080/",
          "height": 262
        },
        "id": "IC6dVX2DQ7W4",
        "outputId": "aec25950-cb7e-4960-dd05-6d12a1068812"
      },
      "execution_count": null,
      "outputs": [
        {
          "output_type": "display_data",
          "data": {
            "text/plain": [
              "<Figure size 432x288 with 2 Axes>"
            ],
            "image/png": "[encoded data removed]"
          },
          "metadata": {
            "needs_background": "light"
          }
        }
      ]
    },
    {
      "cell_type": "code",
      "source": [
        "import tensorflow as tf"
      ],
      "metadata": {
        "id": "UD8jQg3oRUJD"
      },
      "execution_count": null,
      "outputs": []
    },
    {
      "cell_type": "markdown",
      "source": [
        "==> Just to check how much time it takes to load the data directly from cifar100 dataset.\n",
        "this process takes very less time as compared to loading I did in start of the process using colab upload process."
      ],
      "metadata": {
        "id": "c49lqiz3usEJ"
      }
    },
    {
      "cell_type": "code",
      "source": [
        "trn, tst = tf.keras.datasets.cifar100.load_data()"
      ],
      "metadata": {
        "colab": {
          "base_uri": "https://localhost:8080/"
        },
        "id": "8PkRh8TiRXbu",
        "outputId": "5422ee29-56c3-4772-c13f-a91414a903a8"
      },
      "execution_count": null,
      "outputs": [
        {
          "output_type": "stream",
          "name": "stdout",
          "text": [
            "Downloading data from https://www.cs.toronto.edu/~kriz/cifar-100-python.tar.gz\n",
            "169009152/169001437 [==============================] - 11s 0us/step\n",
            "169017344/169001437 [==============================] - 11s 0us/step\n"
          ]
        }
      ]
    },
    {
      "cell_type": "code",
      "source": [
        "for j in range(65,100):\n",
        "    res = np.where(trn[1] == j)[0]\n",
        "\n",
        "    for i in range(2):\n",
        "        plt.figure()\n",
        "        plt.imshow(trn[0][res[i]])"
      ],
      "metadata": {
        "id": "WfJV28_BRay1"
      },
      "execution_count": null,
      "outputs": []
    },
    {
      "cell_type": "markdown",
      "source": [
        "==> This section is to check what is tstLabel_fine and tstLabel_coarse\n",
        "\n",
        "\n",
        "1.   tstLabel_coarse - its a superclass of 20 \n",
        "2.   tstLabel_fine   - its a class of 100\n",
        "\n"
      ],
      "metadata": {
        "id": "MtcsAoPsvIAK"
      }
    },
    {
      "cell_type": "code",
      "source": [
        "images_T = np.load('./tstImage.npy')\n",
        "label_fine_T = np.load('./tstLabel_fine.npy')\n",
        "label_coarse_T = np.load('./tstLabel_coarse.npy')\n",
        "\n",
        "\n",
        "# Lets call transpose on our 4D tensor\n",
        "transposed_T = np.transpose(images_T, [3,0,1,2])\n",
        "\n",
        "\n",
        "print(transposed.shape)\n",
        "print(label_fine.shape)\n",
        "print(label_coarse.shape)\n",
        "\n",
        "print(transposed_T.shape)\n",
        "print(label_fine_T.shape)\n",
        "print(label_coarse_T.shape)\n",
        "\n",
        "print(max(label_fine_T))   # it's a  class\n",
        "print(max(label_fine))     # it's a  class\n",
        "print(max(label_coarse_T)) # it's a super class\n",
        "print(max(label_coarse))   # it's a super class\n",
        "\n"
      ],
      "metadata": {
        "colab": {
          "base_uri": "https://localhost:8080/"
        },
        "id": "d-ydrVXWSAII",
        "outputId": "4c098b78-6c63-48ee-dfd2-b5f6ab7a0b2d"
      },
      "execution_count": null,
      "outputs": [
        {
          "output_type": "stream",
          "name": "stdout",
          "text": [
            "(50000, 32, 32, 3)\n",
            "(50000,)\n",
            "(50000,)\n",
            "(10000, 32, 32, 3)\n",
            "(10000,)\n",
            "(10000,)\n",
            "99\n",
            "99\n",
            "19\n",
            "19\n"
          ]
        }
      ]
    },
    {
      "cell_type": "code",
      "source": [
        "plt.imshow(transposed[0])\n",
        "print(label_fine[0])\n"
      ],
      "metadata": {
        "colab": {
          "base_uri": "https://localhost:8080/",
          "height": 284
        },
        "id": "o-vdqLmkUk8M",
        "outputId": "e7ea6d10-e506-440d-fc8d-9ea15bbd0e2f"
      },
      "execution_count": null,
      "outputs": [
        {
          "output_type": "stream",
          "name": "stdout",
          "text": [
            "19\n"
          ]
        },
        {
          "output_type": "display_data",
          "data": {
            "text/plain": [
              "<Figure size 432x288 with 1 Axes>"
            ],
            "image/png": "[encoded data removed]"
          },
          "metadata": {
            "needs_background": "light"
          }
        }
      ]
    },
    {
      "cell_type": "code",
      "source": [
        "plt.imshow(transposed_T[0])\n",
        "print(label_fine_T[0])"
      ],
      "metadata": {
        "colab": {
          "base_uri": "https://localhost:8080/",
          "height": 284
        },
        "id": "yXLgDtpOVDDu",
        "outputId": "3b8ecedf-f6e0-48aa-fdbf-18e5f0455f2f"
      },
      "execution_count": null,
      "outputs": [
        {
          "output_type": "stream",
          "name": "stdout",
          "text": [
            "49\n"
          ]
        },
        {
          "output_type": "display_data",
          "data": {
            "text/plain": [
              "<Figure size 432x288 with 1 Axes>"
            ],
            "image/png": "[encoded data removed]"
          },
          "metadata": {
            "needs_background": "light"
          }
        }
      ]
    },
    {
      "cell_type": "markdown",
      "source": [
        "==> first tried to train the model with normalised data by dividing 255 but the resutls was not good so kept the data as is ."
      ],
      "metadata": {
        "id": "2v5Azg21wmg0"
      }
    },
    {
      "cell_type": "code",
      "source": [
        "data = transposed /1\n",
        "data_T = transposed_T /1"
      ],
      "metadata": {
        "id": "_GoLT8_IThyE"
      },
      "execution_count": null,
      "outputs": []
    },
    {
      "cell_type": "code",
      "source": [
        "from tensorflow.python.ops.gen_nn_ops import Conv2D\n",
        "import matplotlib.pyplot as plt\n",
        "import tensorflow as tf"
      ],
      "metadata": {
        "id": "iDRnfxMlTuur"
      },
      "execution_count": null,
      "outputs": []
    },
    {
      "cell_type": "markdown",
      "source": [
        "==> Built ANN with dense layers of 1024 and 100 neurons for label of classes(100).training accuracy was very less it's only 22%.So didn't  proceed further."
      ],
      "metadata": {
        "id": "kjpbnWmv4MQN"
      }
    },
    {
      "cell_type": "code",
      "source": [
        "model = tf.keras.Sequential(layers=[\n",
        "        tf.keras.layers.Flatten(input_shape=(32,32,3)), \n",
        "        tf.keras.layers.Dense(1024,activation='relu',),\n",
        "        tf.keras.layers.Dense(100,activation=tf.nn.softmax)])\n",
        "\n",
        "model.compile(optimizer=tf.keras.optimizers.Adam(), \n",
        "              loss=tf.keras.losses.SparseCategoricalCrossentropy(), \n",
        "              metrics=tf.keras.metrics.SparseCategoricalAccuracy())\n",
        "\n",
        "history = model.fit(data,label_fine, epochs=15) "
      ],
      "metadata": {
        "colab": {
          "base_uri": "https://localhost:8080/"
        },
        "id": "HFmG5XazaWxj",
        "outputId": "5fbd5ac5-00f5-464a-e96c-23e7e5d83846"
      },
      "execution_count": null,
      "outputs": [
        {
          "output_type": "stream",
          "name": "stdout",
          "text": [
            "Epoch 1/15\n",
            "1563/1563 [==============================] - 38s 24ms/step - loss: 4.2294 - sparse_categorical_accuracy: 0.0620\n",
            "Epoch 2/15\n",
            "1563/1563 [==============================] - 39s 25ms/step - loss: 3.8991 - sparse_categorical_accuracy: 0.1098\n",
            "Epoch 3/15\n",
            "1563/1563 [==============================] - 39s 25ms/step - loss: 3.7566 - sparse_categorical_accuracy: 0.1326\n",
            "Epoch 4/15\n",
            "1563/1563 [==============================] - 38s 24ms/step - loss: 3.6696 - sparse_categorical_accuracy: 0.1480\n",
            "Epoch 5/15\n",
            "1563/1563 [==============================] - 37s 24ms/step - loss: 3.6050 - sparse_categorical_accuracy: 0.1597\n",
            "Epoch 6/15\n",
            "1563/1563 [==============================] - 38s 24ms/step - loss: 3.5551 - sparse_categorical_accuracy: 0.1697\n",
            "Epoch 7/15\n",
            "1563/1563 [==============================] - 37s 24ms/step - loss: 3.5109 - sparse_categorical_accuracy: 0.1764\n",
            "Epoch 8/15\n",
            "1563/1563 [==============================] - 37s 24ms/step - loss: 3.4722 - sparse_categorical_accuracy: 0.1858\n",
            "Epoch 9/15\n",
            "1563/1563 [==============================] - 37s 24ms/step - loss: 3.4384 - sparse_categorical_accuracy: 0.1913\n",
            "Epoch 10/15\n",
            "1563/1563 [==============================] - 37s 24ms/step - loss: 3.4063 - sparse_categorical_accuracy: 0.1985\n",
            "Epoch 11/15\n",
            "1563/1563 [==============================] - 37s 24ms/step - loss: 3.3765 - sparse_categorical_accuracy: 0.2039\n",
            "Epoch 12/15\n",
            "1563/1563 [==============================] - 37s 24ms/step - loss: 3.3495 - sparse_categorical_accuracy: 0.2083\n",
            "Epoch 13/15\n",
            "1563/1563 [==============================] - 37s 24ms/step - loss: 3.3234 - sparse_categorical_accuracy: 0.2131\n",
            "Epoch 14/15\n",
            "1563/1563 [==============================] - 38s 25ms/step - loss: 3.2976 - sparse_categorical_accuracy: 0.2188\n",
            "Epoch 15/15\n",
            "1563/1563 [==============================] - 40s 26ms/step - loss: 3.2726 - sparse_categorical_accuracy: 0.2216\n"
          ]
        }
      ]
    },
    {
      "cell_type": "markdown",
      "source": [
        "==> Built CNN with Conv2D layer, poolMaxPooling2D  layer ,and dense layers of 3000 and 100 neurons for label of classes(100).\n",
        "\n",
        "Using this model training accuracy is : 92% for 100 classes.\n",
        "Using this model testing accuracy is : 24.83% for 100 classes."
      ],
      "metadata": {
        "id": "7lhZQeE24QZE"
      }
    },
    {
      "cell_type": "code",
      "source": [
        "model = tf.keras.models.Sequential([\n",
        "    tf.keras.layers.Conv2D(64, (7,7), activation='relu', input_shape=(32, 32, 3)),\n",
        "    tf.keras.layers.MaxPooling2D(2, 2),\n",
        "    tf.keras.layers.Conv2D(32, (5, 5), activation='relu'),\n",
        "    tf.keras.layers.MaxPooling2D(2, 2),\n",
        "    tf.keras.layers.Flatten(),\n",
        "    tf.keras.layers.Dense(3000, activation='relu'),\n",
        "    tf.keras.layers.Dense(100, activation='softmax')\n",
        "])\n",
        "\n",
        "model.summary()\n",
        "\n",
        "model.compile(optimizer='adam', loss='sparse_categorical_crossentropy', metrics=['accuracy'])\n",
        "\n",
        "\n",
        "history = model.fit(data,label_fine, epochs=25)"
      ],
      "metadata": {
        "colab": {
          "base_uri": "https://localhost:8080/"
        },
        "id": "YS2AnNV1fHwH",
        "outputId": "23289221-5214-45b1-d943-56b7bfea0db4"
      },
      "execution_count": null,
      "outputs": [
        {
          "output_type": "stream",
          "name": "stdout",
          "text": [
            "Model: \"sequential_13\"\n",
            "_________________________________________________________________\n",
            " Layer (type)                Output Shape              Param #   \n",
            "=================================================================\n",
            " conv2d_26 (Conv2D)          (None, 26, 26, 64)        9472      \n",
            "                                                                 \n",
            " max_pooling2d_26 (MaxPoolin  (None, 13, 13, 64)       0         \n",
            " g2D)                                                            \n",
            "                                                                 \n",
            " conv2d_27 (Conv2D)          (None, 9, 9, 32)          51232     \n",
            "                                                                 \n",
            " max_pooling2d_27 (MaxPoolin  (None, 4, 4, 32)         0         \n",
            " g2D)                                                            \n",
            "                                                                 \n",
            " flatten_14 (Flatten)        (None, 512)               0         \n",
            "                                                                 \n",
            " dense_26 (Dense)            (None, 3000)              1539000   \n",
            "                                                                 \n",
            " dense_27 (Dense)            (None, 100)               300100    \n",
            "                                                                 \n",
            "=================================================================\n",
            "Total params: 1,899,804\n",
            "Trainable params: 1,899,804\n",
            "Non-trainable params: 0\n",
            "_________________________________________________________________\n",
            "Epoch 1/25\n",
            "1563/1563 [==============================] - 152s 97ms/step - loss: 3.8814 - accuracy: 0.1078\n",
            "Epoch 2/25\n",
            "1563/1563 [==============================] - 153s 98ms/step - loss: 3.2911 - accuracy: 0.2083\n",
            "Epoch 3/25\n",
            "1563/1563 [==============================] - 154s 98ms/step - loss: 2.9926 - accuracy: 0.2637\n",
            "Epoch 4/25\n",
            "1563/1563 [==============================] - 151s 97ms/step - loss: 2.7425 - accuracy: 0.3114\n",
            "Epoch 5/25\n",
            "1563/1563 [==============================] - 152s 98ms/step - loss: 2.4922 - accuracy: 0.3629\n",
            "Epoch 6/25\n",
            "1563/1563 [==============================] - 151s 97ms/step - loss: 2.2262 - accuracy: 0.4158\n",
            "Epoch 7/25\n",
            "1563/1563 [==============================] - 151s 96ms/step - loss: 1.9412 - accuracy: 0.4823\n",
            "Epoch 8/25\n",
            "1563/1563 [==============================] - 152s 97ms/step - loss: 1.6568 - accuracy: 0.5496\n",
            "Epoch 9/25\n",
            "1563/1563 [==============================] - 152s 97ms/step - loss: 1.3918 - accuracy: 0.6133\n",
            "Epoch 10/25\n",
            "1563/1563 [==============================] - 151s 96ms/step - loss: 1.1540 - accuracy: 0.6725\n",
            "Epoch 11/25\n",
            "1563/1563 [==============================] - 151s 97ms/step - loss: 0.9549 - accuracy: 0.7238\n",
            "Epoch 12/25\n",
            "1563/1563 [==============================] - 150s 96ms/step - loss: 0.7951 - accuracy: 0.7677\n",
            "Epoch 13/25\n",
            "1563/1563 [==============================] - 150s 96ms/step - loss: 0.6827 - accuracy: 0.7989\n",
            "Epoch 14/25\n",
            "1563/1563 [==============================] - 154s 99ms/step - loss: 0.5927 - accuracy: 0.8229\n",
            "Epoch 15/25\n",
            "1563/1563 [==============================] - 152s 97ms/step - loss: 0.5147 - accuracy: 0.8476\n",
            "Epoch 16/25\n",
            "1563/1563 [==============================] - 151s 97ms/step - loss: 0.4541 - accuracy: 0.8634\n",
            "Epoch 17/25\n",
            "1563/1563 [==============================] - 153s 98ms/step - loss: 0.4452 - accuracy: 0.8683\n",
            "Epoch 18/25\n",
            "1563/1563 [==============================] - 152s 97ms/step - loss: 0.3861 - accuracy: 0.8876\n",
            "Epoch 19/25\n",
            "1563/1563 [==============================] - 152s 98ms/step - loss: 0.3633 - accuracy: 0.8921\n",
            "Epoch 20/25\n",
            "1563/1563 [==============================] - 153s 98ms/step - loss: 0.3611 - accuracy: 0.8934\n",
            "Epoch 21/25\n",
            "1563/1563 [==============================] - 154s 98ms/step - loss: 0.3272 - accuracy: 0.9049\n",
            "Epoch 22/25\n",
            "1563/1563 [==============================] - 153s 98ms/step - loss: 0.3075 - accuracy: 0.9124\n",
            "Epoch 23/25\n",
            "1563/1563 [==============================] - 152s 97ms/step - loss: 0.3120 - accuracy: 0.9119\n",
            "Epoch 24/25\n",
            "1563/1563 [==============================] - 153s 98ms/step - loss: 0.2966 - accuracy: 0.9157\n",
            "Epoch 25/25\n",
            "1563/1563 [==============================] - 152s 97ms/step - loss: 0.2712 - accuracy: 0.9229\n"
          ]
        }
      ]
    },
    {
      "cell_type": "code",
      "source": [
        "model.evaluate(data_T,label_fine_T)"
      ],
      "metadata": {
        "colab": {
          "base_uri": "https://localhost:8080/"
        },
        "id": "dGdxgNsRT0iC",
        "outputId": "6cd3621c-9163-42d7-e698-0338808423e3"
      },
      "execution_count": null,
      "outputs": [
        {
          "output_type": "stream",
          "name": "stdout",
          "text": [
            "313/313 [==============================] - 8s 26ms/step - loss: 9.7875 - accuracy: 0.2483\n"
          ]
        },
        {
          "output_type": "execute_result",
          "data": {
            "text/plain": [
              "[9.787501335144043, 0.2483000010251999]"
            ]
          },
          "metadata": {},
          "execution_count": 43
        }
      ]
    },
    {
      "cell_type": "markdown",
      "source": [
        "==> Built CNN with Conv2D layer, poolMaxPooling2D  layer ,and dense layers of 1024 and 100 neurons for label of super classes(20).\n",
        "\n",
        "Using this model training accuracy is : 71.77% for 20 super classes.\n",
        "Using this model testing accuracy is  : 36.66% for 20 super classes."
      ],
      "metadata": {
        "id": "YuF2cl5A4t6X"
      }
    },
    {
      "cell_type": "code",
      "source": [
        "model1 = tf.keras.models.Sequential([\n",
        "    tf.keras.layers.Conv2D(64, (7,7), activation='relu', input_shape=(32, 32, 3)),\n",
        "    tf.keras.layers.MaxPooling2D(2, 2),\n",
        "    tf.keras.layers.Conv2D(32, (5, 5), activation='relu'),\n",
        "    tf.keras.layers.MaxPooling2D(2, 2),\n",
        "    tf.keras.layers.Flatten(),\n",
        "    tf.keras.layers.Dense(512, activation='relu'),\n",
        "    tf.keras.layers.Dense(20, activation='softmax')\n",
        "])\n",
        "\n",
        "model1.summary()\n",
        "\n",
        "model1.compile(optimizer='adam', loss='sparse_categorical_crossentropy', metrics=['accuracy'])\n",
        "\n",
        "\n",
        "history = model1.fit(data,label_coarse, epochs=20)"
      ],
      "metadata": {
        "colab": {
          "base_uri": "https://localhost:8080/"
        },
        "id": "8alSEBRkx_bi",
        "outputId": "200640ab-7c90-4d6e-8782-ba69eb5ab07a"
      },
      "execution_count": null,
      "outputs": [
        {
          "output_type": "stream",
          "name": "stdout",
          "text": [
            "Model: \"sequential\"\n",
            "_________________________________________________________________\n",
            " Layer (type)                Output Shape              Param #   \n",
            "=================================================================\n",
            " conv2d (Conv2D)             (None, 26, 26, 64)        9472      \n",
            "                                                                 \n",
            " max_pooling2d (MaxPooling2D  (None, 13, 13, 64)       0         \n",
            " )                                                               \n",
            "                                                                 \n",
            " conv2d_1 (Conv2D)           (None, 9, 9, 32)          51232     \n",
            "                                                                 \n",
            " max_pooling2d_1 (MaxPooling  (None, 4, 4, 32)         0         \n",
            " 2D)                                                             \n",
            "                                                                 \n",
            " flatten (Flatten)           (None, 512)               0         \n",
            "                                                                 \n",
            " dense (Dense)               (None, 512)               262656    \n",
            "                                                                 \n",
            " dense_1 (Dense)             (None, 20)                10260     \n",
            "                                                                 \n",
            "=================================================================\n",
            "Total params: 333,620\n",
            "Trainable params: 333,620\n",
            "Non-trainable params: 0\n",
            "_________________________________________________________________\n",
            "Epoch 1/20\n",
            "1563/1563 [==============================] - 128s 81ms/step - loss: 2.5507 - accuracy: 0.2090\n",
            "Epoch 2/20\n",
            "1563/1563 [==============================] - 131s 84ms/step - loss: 2.2446 - accuracy: 0.3063\n",
            "Epoch 3/20\n",
            "1563/1563 [==============================] - 128s 82ms/step - loss: 2.1065 - accuracy: 0.3487\n",
            "Epoch 4/20\n",
            "1563/1563 [==============================] - 129s 82ms/step - loss: 2.0055 - accuracy: 0.3774\n",
            "Epoch 5/20\n",
            "1563/1563 [==============================] - 130s 83ms/step - loss: 1.9086 - accuracy: 0.4069\n",
            "Epoch 6/20\n",
            "1563/1563 [==============================] - 130s 83ms/step - loss: 1.8195 - accuracy: 0.4331\n",
            "Epoch 7/20\n",
            "1563/1563 [==============================] - 135s 86ms/step - loss: 1.7302 - accuracy: 0.4596\n",
            "Epoch 8/20\n",
            "1563/1563 [==============================] - 130s 83ms/step - loss: 1.6486 - accuracy: 0.4850\n",
            "Epoch 9/20\n",
            "1563/1563 [==============================] - 130s 83ms/step - loss: 1.5658 - accuracy: 0.5084\n",
            "Epoch 10/20\n",
            "1563/1563 [==============================] - 130s 83ms/step - loss: 1.4892 - accuracy: 0.5309\n",
            "Epoch 11/20\n",
            "1563/1563 [==============================] - 131s 84ms/step - loss: 1.4141 - accuracy: 0.5530\n",
            "Epoch 12/20\n",
            "1563/1563 [==============================] - 131s 84ms/step - loss: 1.3371 - accuracy: 0.5761\n",
            "Epoch 13/20\n",
            "1563/1563 [==============================] - 131s 84ms/step - loss: 1.2668 - accuracy: 0.6003\n",
            "Epoch 14/20\n",
            "1563/1563 [==============================] - 131s 84ms/step - loss: 1.1982 - accuracy: 0.6190\n",
            "Epoch 15/20\n",
            "1563/1563 [==============================] - 132s 85ms/step - loss: 1.1315 - accuracy: 0.6402\n",
            "Epoch 16/20\n",
            "1563/1563 [==============================] - 132s 85ms/step - loss: 1.0670 - accuracy: 0.6582\n",
            "Epoch 17/20\n",
            "1563/1563 [==============================] - 133s 85ms/step - loss: 1.0135 - accuracy: 0.6775\n",
            "Epoch 18/20\n",
            "1563/1563 [==============================] - 134s 86ms/step - loss: 0.9611 - accuracy: 0.6918\n",
            "Epoch 19/20\n",
            "1563/1563 [==============================] - 133s 85ms/step - loss: 0.9127 - accuracy: 0.7084\n",
            "Epoch 20/20\n",
            "1563/1563 [==============================] - 137s 87ms/step - loss: 0.8744 - accuracy: 0.7177\n"
          ]
        }
      ]
    },
    {
      "cell_type": "code",
      "source": [
        "model1.evaluate(data_T,label_coarse_T)"
      ],
      "metadata": {
        "colab": {
          "base_uri": "https://localhost:8080/"
        },
        "id": "sQbSoqzqU_lX",
        "outputId": "e0ba6544-93fe-4f2a-9cb5-9815c8109dcf"
      },
      "execution_count": null,
      "outputs": [
        {
          "output_type": "stream",
          "name": "stdout",
          "text": [
            "313/313 [==============================] - 8s 21ms/step - loss: 3.0508 - accuracy: 0.3667\n"
          ]
        },
        {
          "output_type": "execute_result",
          "data": {
            "text/plain": [
              "[3.0507636070251465, 0.3666999936103821]"
            ]
          },
          "metadata": {},
          "execution_count": 23
        }
      ]
    },
    {
      "cell_type": "markdown",
      "source": [
        "**Created another Model for both type of lebels using hog extracted images.**"
      ],
      "metadata": {
        "id": "-Xg21-saV0mk"
      }
    },
    {
      "cell_type": "code",
      "source": [
        "hog_feature, hog_image = skimage.feature.hog(image, pixels_per_cell=[6,6], cells_per_block=[2,2], visualize=True) # you may need to add \"channel_axis=-1\" if you are using the newest version of skimage\n",
        "\n",
        "print(f'The extracted feature vector is of length {hog_feature.shape[0]} per sample')"
      ],
      "metadata": {
        "colab": {
          "base_uri": "https://localhost:8080/"
        },
        "id": "ZBI_wX28Xqc-",
        "outputId": "9de46adb-37fb-4db0-b029-5e949ddcf112"
      },
      "execution_count": null,
      "outputs": [
        {
          "output_type": "stream",
          "name": "stdout",
          "text": [
            "The extracted feature vector is of length 576 per sample\n"
          ]
        }
      ]
    },
    {
      "cell_type": "code",
      "source": [
        "print(hog_feature.shape)\n",
        "print(hog_image.shape)"
      ],
      "metadata": {
        "colab": {
          "base_uri": "https://localhost:8080/"
        },
        "id": "Gcbb1fNqWhd5",
        "outputId": "1a0c405a-a05a-41fd-ed68-a0729c7c5f99"
      },
      "execution_count": null,
      "outputs": [
        {
          "output_type": "stream",
          "name": "stdout",
          "text": [
            "(576,)\n",
            "(32, 32)\n"
          ]
        }
      ]
    },
    {
      "cell_type": "markdown",
      "source": [
        "==> Extract the features using hog function."
      ],
      "metadata": {
        "id": "9q-hgg-X5Evm"
      }
    },
    {
      "cell_type": "code",
      "source": [
        "n_training = len( data )\n",
        "n_testing = len( data_T )\n",
        "normalize = True          #  True ==> yields a little bit better score\n",
        "                          #  \n",
        "block_norm = 'L2-Hys'     # or 'L1'\n",
        "orientations = 9          # \n",
        "pixels_per_cell = [8, 8]  #  see section 'Additional remarks' for some explanation\n",
        "cells_per_block = [2, 2]  # \n",
        "\n",
        "def extractFeature(img, vis=False):\n",
        "    from skimage.feature import hog\n",
        "    return hog(img, orientations, pixels_per_cell, cells_per_block, block_norm, visualize=vis, transform_sqrt=normalize)\n",
        "# feature extraction\n",
        "import numpy as np\n",
        "X_training = np.array( [ extractFeature(data[i], vis=False) for i in range(n_training) ] )\n",
        "X_testing = np.array( [ extractFeature(data_T[i], vis=False) for i in range(n_testing) ] )\n"
      ],
      "metadata": {
        "id": "eVkLNssYYV0w"
      },
      "execution_count": null,
      "outputs": []
    },
    {
      "cell_type": "code",
      "source": [
        "print(X_training.shape)\n",
        "print(X_testing.shape)"
      ],
      "metadata": {
        "colab": {
          "base_uri": "https://localhost:8080/"
        },
        "id": "5l575YfjY2Jc",
        "outputId": "972b7547-ae87-4abc-ae4a-27325db4c3b3"
      },
      "execution_count": null,
      "outputs": [
        {
          "output_type": "stream",
          "name": "stdout",
          "text": [
            "(50000, 324)\n",
            "(10000, 324)\n"
          ]
        }
      ]
    },
    {
      "cell_type": "markdown",
      "source": [
        "==>  Built ANN model using extracted features for 100 classses. \n",
        "For this model training accuracy is 49.35 %\n",
        "For this model testing accuracy is 23.56 %"
      ],
      "metadata": {
        "id": "3dSnhWuA5PKO"
      }
    },
    {
      "cell_type": "code",
      "source": [
        "model2 = tf.keras.Sequential(layers=[\n",
        "        tf.keras.layers.Dense(324,activation='relu',),\n",
        "#        tf.keras.layers.Dense(200,activation='relu',),\n",
        "        tf.keras.layers.Dense(100,activation=tf.nn.softmax)])\n",
        "\n",
        "model2.compile(optimizer=tf.keras.optimizers.Adam(), \n",
        "              loss=tf.keras.losses.SparseCategoricalCrossentropy(), \n",
        "              metrics=tf.keras.metrics.SparseCategoricalAccuracy())\n",
        "\n",
        "history = model2.fit(X_training,label_fine, epochs=50) "
      ],
      "metadata": {
        "colab": {
          "base_uri": "https://localhost:8080/"
        },
        "id": "ncYEX5ZeZ8XK",
        "outputId": "8cd7394c-56c9-42e7-9b35-fc958ee72d5d"
      },
      "execution_count": null,
      "outputs": [
        {
          "output_type": "stream",
          "name": "stdout",
          "text": [
            "Epoch 1/50\n",
            "1563/1563 [==============================] - 6s 4ms/step - loss: 3.8717 - sparse_categorical_accuracy: 0.1287\n",
            "Epoch 2/50\n",
            "1563/1563 [==============================] - 5s 3ms/step - loss: 3.4209 - sparse_categorical_accuracy: 0.2023\n",
            "Epoch 3/50\n",
            "1563/1563 [==============================] - 5s 3ms/step - loss: 3.2693 - sparse_categorical_accuracy: 0.2288\n",
            "Epoch 4/50\n",
            "1563/1563 [==============================] - 5s 3ms/step - loss: 3.1645 - sparse_categorical_accuracy: 0.2492\n",
            "Epoch 5/50\n",
            "1563/1563 [==============================] - 5s 3ms/step - loss: 3.0801 - sparse_categorical_accuracy: 0.2649\n",
            "Epoch 6/50\n",
            "1563/1563 [==============================] - 5s 3ms/step - loss: 3.0060 - sparse_categorical_accuracy: 0.2779\n",
            "Epoch 7/50\n",
            "1563/1563 [==============================] - 5s 3ms/step - loss: 2.9406 - sparse_categorical_accuracy: 0.2906\n",
            "Epoch 8/50\n",
            "1563/1563 [==============================] - 5s 3ms/step - loss: 2.8800 - sparse_categorical_accuracy: 0.3008\n",
            "Epoch 9/50\n",
            "1563/1563 [==============================] - 5s 3ms/step - loss: 2.8280 - sparse_categorical_accuracy: 0.3123\n",
            "Epoch 10/50\n",
            "1563/1563 [==============================] - 5s 3ms/step - loss: 2.7779 - sparse_categorical_accuracy: 0.3222\n",
            "Epoch 11/50\n",
            "1563/1563 [==============================] - 5s 3ms/step - loss: 2.7324 - sparse_categorical_accuracy: 0.3302\n",
            "Epoch 12/50\n",
            "1563/1563 [==============================] - 5s 3ms/step - loss: 2.6898 - sparse_categorical_accuracy: 0.3393\n",
            "Epoch 13/50\n",
            "1563/1563 [==============================] - 5s 3ms/step - loss: 2.6475 - sparse_categorical_accuracy: 0.3478\n",
            "Epoch 14/50\n",
            "1563/1563 [==============================] - 5s 3ms/step - loss: 2.6106 - sparse_categorical_accuracy: 0.3539\n",
            "Epoch 15/50\n",
            "1563/1563 [==============================] - 5s 3ms/step - loss: 2.5757 - sparse_categorical_accuracy: 0.3599\n",
            "Epoch 16/50\n",
            "1563/1563 [==============================] - 5s 3ms/step - loss: 2.5399 - sparse_categorical_accuracy: 0.3685\n",
            "Epoch 17/50\n",
            "1563/1563 [==============================] - 5s 3ms/step - loss: 2.5074 - sparse_categorical_accuracy: 0.3749\n",
            "Epoch 18/50\n",
            "1563/1563 [==============================] - 5s 3ms/step - loss: 2.4763 - sparse_categorical_accuracy: 0.3801\n",
            "Epoch 19/50\n",
            "1563/1563 [==============================] - 5s 3ms/step - loss: 2.4496 - sparse_categorical_accuracy: 0.3868\n",
            "Epoch 20/50\n",
            "1563/1563 [==============================] - 5s 3ms/step - loss: 2.4229 - sparse_categorical_accuracy: 0.3913\n",
            "Epoch 21/50\n",
            "1563/1563 [==============================] - 5s 3ms/step - loss: 2.3969 - sparse_categorical_accuracy: 0.3951\n",
            "Epoch 22/50\n",
            "1563/1563 [==============================] - 5s 3ms/step - loss: 2.3723 - sparse_categorical_accuracy: 0.4036\n",
            "Epoch 23/50\n",
            "1563/1563 [==============================] - 5s 3ms/step - loss: 2.3459 - sparse_categorical_accuracy: 0.4071\n",
            "Epoch 24/50\n",
            "1563/1563 [==============================] - 5s 3ms/step - loss: 2.3244 - sparse_categorical_accuracy: 0.4108\n",
            "Epoch 25/50\n",
            "1563/1563 [==============================] - 5s 3ms/step - loss: 2.3019 - sparse_categorical_accuracy: 0.4150\n",
            "Epoch 26/50\n",
            "1563/1563 [==============================] - 5s 3ms/step - loss: 2.2809 - sparse_categorical_accuracy: 0.4194\n",
            "Epoch 27/50\n",
            "1563/1563 [==============================] - 6s 4ms/step - loss: 2.2614 - sparse_categorical_accuracy: 0.4257\n",
            "Epoch 28/50\n",
            "1563/1563 [==============================] - 6s 4ms/step - loss: 2.2416 - sparse_categorical_accuracy: 0.4304\n",
            "Epoch 29/50\n",
            "1563/1563 [==============================] - 6s 4ms/step - loss: 2.2217 - sparse_categorical_accuracy: 0.4344\n",
            "Epoch 30/50\n",
            "1563/1563 [==============================] - 6s 4ms/step - loss: 2.2049 - sparse_categorical_accuracy: 0.4357\n",
            "Epoch 31/50\n",
            "1563/1563 [==============================] - 6s 4ms/step - loss: 2.1883 - sparse_categorical_accuracy: 0.4389\n",
            "Epoch 32/50\n",
            "1563/1563 [==============================] - 6s 4ms/step - loss: 2.1704 - sparse_categorical_accuracy: 0.4446\n",
            "Epoch 33/50\n",
            "1563/1563 [==============================] - 6s 4ms/step - loss: 2.1550 - sparse_categorical_accuracy: 0.4476\n",
            "Epoch 34/50\n",
            "1563/1563 [==============================] - 6s 4ms/step - loss: 2.1370 - sparse_categorical_accuracy: 0.4509\n",
            "Epoch 35/50\n",
            "1563/1563 [==============================] - 6s 4ms/step - loss: 2.1249 - sparse_categorical_accuracy: 0.4533\n",
            "Epoch 36/50\n",
            "1563/1563 [==============================] - 6s 4ms/step - loss: 2.1081 - sparse_categorical_accuracy: 0.4581\n",
            "Epoch 37/50\n",
            "1563/1563 [==============================] - 6s 4ms/step - loss: 2.0960 - sparse_categorical_accuracy: 0.4593\n",
            "Epoch 38/50\n",
            "1563/1563 [==============================] - 6s 4ms/step - loss: 2.0831 - sparse_categorical_accuracy: 0.4643\n",
            "Epoch 39/50\n",
            "1563/1563 [==============================] - 6s 4ms/step - loss: 2.0717 - sparse_categorical_accuracy: 0.4632\n",
            "Epoch 40/50\n",
            "1563/1563 [==============================] - 5s 4ms/step - loss: 2.0585 - sparse_categorical_accuracy: 0.4681\n",
            "Epoch 41/50\n",
            "1563/1563 [==============================] - 6s 4ms/step - loss: 2.0453 - sparse_categorical_accuracy: 0.4734\n",
            "Epoch 42/50\n",
            "1563/1563 [==============================] - 5s 3ms/step - loss: 2.0316 - sparse_categorical_accuracy: 0.4738\n",
            "Epoch 43/50\n",
            "1563/1563 [==============================] - 5s 3ms/step - loss: 2.0219 - sparse_categorical_accuracy: 0.4756\n",
            "Epoch 44/50\n",
            "1563/1563 [==============================] - 5s 3ms/step - loss: 2.0112 - sparse_categorical_accuracy: 0.4768\n",
            "Epoch 45/50\n",
            "1563/1563 [==============================] - 5s 3ms/step - loss: 1.9965 - sparse_categorical_accuracy: 0.4800\n",
            "Epoch 46/50\n",
            "1563/1563 [==============================] - 5s 3ms/step - loss: 1.9876 - sparse_categorical_accuracy: 0.4844\n",
            "Epoch 47/50\n",
            "1563/1563 [==============================] - 5s 3ms/step - loss: 1.9778 - sparse_categorical_accuracy: 0.4846\n",
            "Epoch 48/50\n",
            "1563/1563 [==============================] - 5s 3ms/step - loss: 1.9653 - sparse_categorical_accuracy: 0.4878\n",
            "Epoch 49/50\n",
            "1563/1563 [==============================] - 5s 3ms/step - loss: 1.9578 - sparse_categorical_accuracy: 0.4890\n",
            "Epoch 50/50\n",
            "1563/1563 [==============================] - 5s 3ms/step - loss: 1.9461 - sparse_categorical_accuracy: 0.4935\n"
          ]
        }
      ]
    },
    {
      "cell_type": "code",
      "source": [
        "model2.evaluate(X_testing,label_fine_T)"
      ],
      "metadata": {
        "colab": {
          "base_uri": "https://localhost:8080/"
        },
        "id": "AwQnZ7GmauTh",
        "outputId": "61b5cf78-5603-4da8-ecec-97c88a945379"
      },
      "execution_count": null,
      "outputs": [
        {
          "output_type": "stream",
          "name": "stdout",
          "text": [
            "313/313 [==============================] - 1s 2ms/step - loss: 3.6710 - sparse_categorical_accuracy: 0.2357\n"
          ]
        },
        {
          "output_type": "execute_result",
          "data": {
            "text/plain": [
              "[3.671020746231079, 0.23569999635219574]"
            ]
          },
          "metadata": {},
          "execution_count": 50
        }
      ]
    },
    {
      "cell_type": "markdown",
      "source": [
        "==>  Built ANN model using extracted features for 20 super classses. \n",
        "For this model training accuracy is 34.45 %\n",
        "For this model testing accuracy is 32.85 %"
      ],
      "metadata": {
        "id": "7UKjytMK5n87"
      }
    },
    {
      "cell_type": "code",
      "source": [
        "model3 = tf.keras.Sequential(layers=[\n",
        "        tf.keras.layers.Dense(324,activation='relu',),\n",
        "        tf.keras.layers.Dense(20,activation=tf.nn.softmax)])\n",
        "\n",
        "model3.compile(optimizer=tf.keras.optimizers.SGD(), \n",
        "              loss=tf.keras.losses.SparseCategoricalCrossentropy(), \n",
        "              metrics=tf.keras.metrics.SparseCategoricalAccuracy())\n",
        "\n",
        "history = model3.fit(X_training,label_coarse, epochs=50) "
      ],
      "metadata": {
        "colab": {
          "base_uri": "https://localhost:8080/"
        },
        "id": "aRWjXzAqVRoz",
        "outputId": "b6c1c8a5-6869-4c35-80d1-7184bdb8f9f4"
      },
      "execution_count": null,
      "outputs": [
        {
          "output_type": "stream",
          "name": "stdout",
          "text": [
            "Epoch 1/50\n",
            "1563/1563 [==============================] - 5s 3ms/step - loss: 2.9394 - sparse_categorical_accuracy: 0.1172\n",
            "Epoch 2/50\n",
            "1563/1563 [==============================] - 4s 3ms/step - loss: 2.8112 - sparse_categorical_accuracy: 0.1810\n",
            "Epoch 3/50\n",
            "1563/1563 [==============================] - 4s 3ms/step - loss: 2.6977 - sparse_categorical_accuracy: 0.2071\n",
            "Epoch 4/50\n",
            "1563/1563 [==============================] - 4s 3ms/step - loss: 2.6119 - sparse_categorical_accuracy: 0.2254\n",
            "Epoch 5/50\n",
            "1563/1563 [==============================] - 4s 3ms/step - loss: 2.5496 - sparse_categorical_accuracy: 0.2393\n",
            "Epoch 6/50\n",
            "1563/1563 [==============================] - 4s 3ms/step - loss: 2.5038 - sparse_categorical_accuracy: 0.2479\n",
            "Epoch 7/50\n",
            "1563/1563 [==============================] - 4s 3ms/step - loss: 2.4697 - sparse_categorical_accuracy: 0.2544\n",
            "Epoch 8/50\n",
            "1563/1563 [==============================] - 4s 3ms/step - loss: 2.4430 - sparse_categorical_accuracy: 0.2596\n",
            "Epoch 9/50\n",
            "1563/1563 [==============================] - 4s 3ms/step - loss: 2.4207 - sparse_categorical_accuracy: 0.2664\n",
            "Epoch 10/50\n",
            "1563/1563 [==============================] - 5s 3ms/step - loss: 2.4021 - sparse_categorical_accuracy: 0.2710\n",
            "Epoch 11/50\n",
            "1563/1563 [==============================] - 4s 3ms/step - loss: 2.3860 - sparse_categorical_accuracy: 0.2752\n",
            "Epoch 12/50\n",
            "1563/1563 [==============================] - 4s 3ms/step - loss: 2.3712 - sparse_categorical_accuracy: 0.2790\n",
            "Epoch 13/50\n",
            "1563/1563 [==============================] - 4s 3ms/step - loss: 2.3579 - sparse_categorical_accuracy: 0.2832\n",
            "Epoch 14/50\n",
            "1563/1563 [==============================] - 4s 3ms/step - loss: 2.3464 - sparse_categorical_accuracy: 0.2867\n",
            "Epoch 15/50\n",
            "1563/1563 [==============================] - 4s 3ms/step - loss: 2.3353 - sparse_categorical_accuracy: 0.2909\n",
            "Epoch 16/50\n",
            "1563/1563 [==============================] - 4s 3ms/step - loss: 2.3250 - sparse_categorical_accuracy: 0.2935\n",
            "Epoch 17/50\n",
            "1563/1563 [==============================] - 4s 3ms/step - loss: 2.3158 - sparse_categorical_accuracy: 0.2954\n",
            "Epoch 18/50\n",
            "1563/1563 [==============================] - 5s 3ms/step - loss: 2.3069 - sparse_categorical_accuracy: 0.2989\n",
            "Epoch 19/50\n",
            "1563/1563 [==============================] - 4s 3ms/step - loss: 2.2982 - sparse_categorical_accuracy: 0.3006\n",
            "Epoch 20/50\n",
            "1563/1563 [==============================] - 4s 3ms/step - loss: 2.2905 - sparse_categorical_accuracy: 0.3034\n",
            "Epoch 21/50\n",
            "1563/1563 [==============================] - 4s 3ms/step - loss: 2.2826 - sparse_categorical_accuracy: 0.3044\n",
            "Epoch 22/50\n",
            "1563/1563 [==============================] - 4s 3ms/step - loss: 2.2755 - sparse_categorical_accuracy: 0.3067\n",
            "Epoch 23/50\n",
            "1563/1563 [==============================] - 4s 3ms/step - loss: 2.2679 - sparse_categorical_accuracy: 0.3091\n",
            "Epoch 24/50\n",
            "1563/1563 [==============================] - 4s 3ms/step - loss: 2.2612 - sparse_categorical_accuracy: 0.3109\n",
            "Epoch 25/50\n",
            "1563/1563 [==============================] - 5s 3ms/step - loss: 2.2549 - sparse_categorical_accuracy: 0.3120\n",
            "Epoch 26/50\n",
            "1563/1563 [==============================] - 4s 3ms/step - loss: 2.2483 - sparse_categorical_accuracy: 0.3136\n",
            "Epoch 27/50\n",
            "1563/1563 [==============================] - 4s 3ms/step - loss: 2.2420 - sparse_categorical_accuracy: 0.3150\n",
            "Epoch 28/50\n",
            "1563/1563 [==============================] - 4s 3ms/step - loss: 2.2363 - sparse_categorical_accuracy: 0.3170\n",
            "Epoch 29/50\n",
            "1563/1563 [==============================] - 4s 3ms/step - loss: 2.2301 - sparse_categorical_accuracy: 0.3188\n",
            "Epoch 30/50\n",
            "1563/1563 [==============================] - 4s 3ms/step - loss: 2.2246 - sparse_categorical_accuracy: 0.3213\n",
            "Epoch 31/50\n",
            "1563/1563 [==============================] - 4s 3ms/step - loss: 2.2192 - sparse_categorical_accuracy: 0.3223\n",
            "Epoch 32/50\n",
            "1563/1563 [==============================] - 4s 3ms/step - loss: 2.2132 - sparse_categorical_accuracy: 0.3234\n",
            "Epoch 33/50\n",
            "1563/1563 [==============================] - 4s 3ms/step - loss: 2.2079 - sparse_categorical_accuracy: 0.3249\n",
            "Epoch 34/50\n",
            "1563/1563 [==============================] - 4s 3ms/step - loss: 2.2024 - sparse_categorical_accuracy: 0.3253\n",
            "Epoch 35/50\n",
            "1563/1563 [==============================] - 5s 3ms/step - loss: 2.1975 - sparse_categorical_accuracy: 0.3266\n",
            "Epoch 36/50\n",
            "1563/1563 [==============================] - 5s 3ms/step - loss: 2.1924 - sparse_categorical_accuracy: 0.3287\n",
            "Epoch 37/50\n",
            "1563/1563 [==============================] - 4s 3ms/step - loss: 2.1875 - sparse_categorical_accuracy: 0.3307\n",
            "Epoch 38/50\n",
            "1563/1563 [==============================] - 4s 3ms/step - loss: 2.1824 - sparse_categorical_accuracy: 0.3314\n",
            "Epoch 39/50\n",
            "1563/1563 [==============================] - 4s 3ms/step - loss: 2.1778 - sparse_categorical_accuracy: 0.3328\n",
            "Epoch 40/50\n",
            "1563/1563 [==============================] - 4s 3ms/step - loss: 2.1728 - sparse_categorical_accuracy: 0.3324\n",
            "Epoch 41/50\n",
            "1563/1563 [==============================] - 4s 3ms/step - loss: 2.1683 - sparse_categorical_accuracy: 0.3346\n",
            "Epoch 42/50\n",
            "1563/1563 [==============================] - 4s 3ms/step - loss: 2.1638 - sparse_categorical_accuracy: 0.3361\n",
            "Epoch 43/50\n",
            "1563/1563 [==============================] - 4s 3ms/step - loss: 2.1595 - sparse_categorical_accuracy: 0.3379\n",
            "Epoch 44/50\n",
            "1563/1563 [==============================] - 4s 3ms/step - loss: 2.1553 - sparse_categorical_accuracy: 0.3389\n",
            "Epoch 45/50\n",
            "1563/1563 [==============================] - 4s 3ms/step - loss: 2.1505 - sparse_categorical_accuracy: 0.3410\n",
            "Epoch 46/50\n",
            "1563/1563 [==============================] - 4s 3ms/step - loss: 2.1461 - sparse_categorical_accuracy: 0.3413\n",
            "Epoch 47/50\n",
            "1563/1563 [==============================] - 4s 3ms/step - loss: 2.1421 - sparse_categorical_accuracy: 0.3429\n",
            "Epoch 48/50\n",
            "1563/1563 [==============================] - 4s 3ms/step - loss: 2.1377 - sparse_categorical_accuracy: 0.3442\n",
            "Epoch 49/50\n",
            "1563/1563 [==============================] - 4s 3ms/step - loss: 2.1336 - sparse_categorical_accuracy: 0.3459\n",
            "Epoch 50/50\n",
            "1563/1563 [==============================] - 4s 3ms/step - loss: 2.1294 - sparse_categorical_accuracy: 0.3445\n"
          ]
        }
      ]
    },
    {
      "cell_type": "code",
      "source": [
        "model3.evaluate(X_testing,label_coarse_T)"
      ],
      "metadata": {
        "colab": {
          "base_uri": "https://localhost:8080/"
        },
        "id": "I5l2UFDbWIBv",
        "outputId": "deacafa1-03ee-437c-d54d-eba55dd53d69"
      },
      "execution_count": null,
      "outputs": [
        {
          "output_type": "stream",
          "name": "stdout",
          "text": [
            "313/313 [==============================] - 1s 2ms/step - loss: 2.1873 - sparse_categorical_accuracy: 0.3286\n"
          ]
        },
        {
          "output_type": "execute_result",
          "data": {
            "text/plain": [
              "[2.1873350143432617, 0.3285999894142151]"
            ]
          },
          "metadata": {},
          "execution_count": 54
        }
      ]
    }
  ]
}